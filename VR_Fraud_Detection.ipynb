{
  "nbformat": 4,
  "nbformat_minor": 0,
  "metadata": {
    "colab": {
      "provenance": [],
      "authorship_tag": "ABX9TyMJr4GIiWwSDYSvqExWssES",
      "include_colab_link": true
    },
    "kernelspec": {
      "name": "python3",
      "display_name": "Python 3"
    },
    "language_info": {
      "name": "python"
    }
  },
  "cells": [
    {
      "cell_type": "markdown",
      "metadata": {
        "id": "view-in-github",
        "colab_type": "text"
      },
      "source": [
        "<a href=\"https://colab.research.google.com/github/hanimatari/VR-Fraud-Detection/blob/main/VR_Fraud_Detection.ipynb\" target=\"_parent\"><img src=\"https://colab.research.google.com/assets/colab-badge.svg\" alt=\"Open In Colab\"/></a>"
      ]
    },
    {
      "cell_type": "code",
      "execution_count": 1,
      "metadata": {
        "id": "q2_bDhwpqAp2",
        "colab": {
          "base_uri": "https://localhost:8080/",
          "height": 1000
        },
        "outputId": "42e74e82-7eec-4e30-c335-c4ca32b5b9a4"
      },
      "outputs": [
        {
          "output_type": "stream",
          "name": "stdout",
          "text": [
            "\u001b[2K     \u001b[90m━━━━━━━━━━━━━━━━━━━━━━━━━━━━━━━━━━━━━━━━\u001b[0m \u001b[32m44.3/44.3 kB\u001b[0m \u001b[31m2.4 MB/s\u001b[0m eta \u001b[36m0:00:00\u001b[0m\n",
            "\u001b[2K   \u001b[90m━━━━━━━━━━━━━━━━━━━━━━━━━━━━━━━━━━━━━━━━\u001b[0m \u001b[32m9.9/9.9 MB\u001b[0m \u001b[31m63.8 MB/s\u001b[0m eta \u001b[36m0:00:00\u001b[0m\n",
            "\u001b[2K   \u001b[90m━━━━━━━━━━━━━━━━━━━━━━━━━━━━━━━━━━━━━━━━\u001b[0m \u001b[32m6.9/6.9 MB\u001b[0m \u001b[31m101.0 MB/s\u001b[0m eta \u001b[36m0:00:00\u001b[0m\n",
            "\u001b[2K   \u001b[90m━━━━━━━━━━━━━━━━━━━━━━━━━━━━━━━━━━━━━━━━\u001b[0m \u001b[32m79.1/79.1 kB\u001b[0m \u001b[31m5.9 MB/s\u001b[0m eta \u001b[36m0:00:00\u001b[0m\n",
            "\u001b[?25h"
          ]
        },
        {
          "output_type": "display_data",
          "data": {
            "text/plain": [
              "<IPython.core.display.HTML object>"
            ],
            "text/html": [
              "\n",
              "     <input type=\"file\" id=\"files-db49b554-d19b-43ca-8b53-6a8bb33f4982\" name=\"files[]\" multiple disabled\n",
              "        style=\"border:none\" />\n",
              "     <output id=\"result-db49b554-d19b-43ca-8b53-6a8bb33f4982\">\n",
              "      Upload widget is only available when the cell has been executed in the\n",
              "      current browser session. Please rerun this cell to enable.\n",
              "      </output>\n",
              "      <script>// Copyright 2017 Google LLC\n",
              "//\n",
              "// Licensed under the Apache License, Version 2.0 (the \"License\");\n",
              "// you may not use this file except in compliance with the License.\n",
              "// You may obtain a copy of the License at\n",
              "//\n",
              "//      http://www.apache.org/licenses/LICENSE-2.0\n",
              "//\n",
              "// Unless required by applicable law or agreed to in writing, software\n",
              "// distributed under the License is distributed on an \"AS IS\" BASIS,\n",
              "// WITHOUT WARRANTIES OR CONDITIONS OF ANY KIND, either express or implied.\n",
              "// See the License for the specific language governing permissions and\n",
              "// limitations under the License.\n",
              "\n",
              "/**\n",
              " * @fileoverview Helpers for google.colab Python module.\n",
              " */\n",
              "(function(scope) {\n",
              "function span(text, styleAttributes = {}) {\n",
              "  const element = document.createElement('span');\n",
              "  element.textContent = text;\n",
              "  for (const key of Object.keys(styleAttributes)) {\n",
              "    element.style[key] = styleAttributes[key];\n",
              "  }\n",
              "  return element;\n",
              "}\n",
              "\n",
              "// Max number of bytes which will be uploaded at a time.\n",
              "const MAX_PAYLOAD_SIZE = 100 * 1024;\n",
              "\n",
              "function _uploadFiles(inputId, outputId) {\n",
              "  const steps = uploadFilesStep(inputId, outputId);\n",
              "  const outputElement = document.getElementById(outputId);\n",
              "  // Cache steps on the outputElement to make it available for the next call\n",
              "  // to uploadFilesContinue from Python.\n",
              "  outputElement.steps = steps;\n",
              "\n",
              "  return _uploadFilesContinue(outputId);\n",
              "}\n",
              "\n",
              "// This is roughly an async generator (not supported in the browser yet),\n",
              "// where there are multiple asynchronous steps and the Python side is going\n",
              "// to poll for completion of each step.\n",
              "// This uses a Promise to block the python side on completion of each step,\n",
              "// then passes the result of the previous step as the input to the next step.\n",
              "function _uploadFilesContinue(outputId) {\n",
              "  const outputElement = document.getElementById(outputId);\n",
              "  const steps = outputElement.steps;\n",
              "\n",
              "  const next = steps.next(outputElement.lastPromiseValue);\n",
              "  return Promise.resolve(next.value.promise).then((value) => {\n",
              "    // Cache the last promise value to make it available to the next\n",
              "    // step of the generator.\n",
              "    outputElement.lastPromiseValue = value;\n",
              "    return next.value.response;\n",
              "  });\n",
              "}\n",
              "\n",
              "/**\n",
              " * Generator function which is called between each async step of the upload\n",
              " * process.\n",
              " * @param {string} inputId Element ID of the input file picker element.\n",
              " * @param {string} outputId Element ID of the output display.\n",
              " * @return {!Iterable<!Object>} Iterable of next steps.\n",
              " */\n",
              "function* uploadFilesStep(inputId, outputId) {\n",
              "  const inputElement = document.getElementById(inputId);\n",
              "  inputElement.disabled = false;\n",
              "\n",
              "  const outputElement = document.getElementById(outputId);\n",
              "  outputElement.innerHTML = '';\n",
              "\n",
              "  const pickedPromise = new Promise((resolve) => {\n",
              "    inputElement.addEventListener('change', (e) => {\n",
              "      resolve(e.target.files);\n",
              "    });\n",
              "  });\n",
              "\n",
              "  const cancel = document.createElement('button');\n",
              "  inputElement.parentElement.appendChild(cancel);\n",
              "  cancel.textContent = 'Cancel upload';\n",
              "  const cancelPromise = new Promise((resolve) => {\n",
              "    cancel.onclick = () => {\n",
              "      resolve(null);\n",
              "    };\n",
              "  });\n",
              "\n",
              "  // Wait for the user to pick the files.\n",
              "  const files = yield {\n",
              "    promise: Promise.race([pickedPromise, cancelPromise]),\n",
              "    response: {\n",
              "      action: 'starting',\n",
              "    }\n",
              "  };\n",
              "\n",
              "  cancel.remove();\n",
              "\n",
              "  // Disable the input element since further picks are not allowed.\n",
              "  inputElement.disabled = true;\n",
              "\n",
              "  if (!files) {\n",
              "    return {\n",
              "      response: {\n",
              "        action: 'complete',\n",
              "      }\n",
              "    };\n",
              "  }\n",
              "\n",
              "  for (const file of files) {\n",
              "    const li = document.createElement('li');\n",
              "    li.append(span(file.name, {fontWeight: 'bold'}));\n",
              "    li.append(span(\n",
              "        `(${file.type || 'n/a'}) - ${file.size} bytes, ` +\n",
              "        `last modified: ${\n",
              "            file.lastModifiedDate ? file.lastModifiedDate.toLocaleDateString() :\n",
              "                                    'n/a'} - `));\n",
              "    const percent = span('0% done');\n",
              "    li.appendChild(percent);\n",
              "\n",
              "    outputElement.appendChild(li);\n",
              "\n",
              "    const fileDataPromise = new Promise((resolve) => {\n",
              "      const reader = new FileReader();\n",
              "      reader.onload = (e) => {\n",
              "        resolve(e.target.result);\n",
              "      };\n",
              "      reader.readAsArrayBuffer(file);\n",
              "    });\n",
              "    // Wait for the data to be ready.\n",
              "    let fileData = yield {\n",
              "      promise: fileDataPromise,\n",
              "      response: {\n",
              "        action: 'continue',\n",
              "      }\n",
              "    };\n",
              "\n",
              "    // Use a chunked sending to avoid message size limits. See b/62115660.\n",
              "    let position = 0;\n",
              "    do {\n",
              "      const length = Math.min(fileData.byteLength - position, MAX_PAYLOAD_SIZE);\n",
              "      const chunk = new Uint8Array(fileData, position, length);\n",
              "      position += length;\n",
              "\n",
              "      const base64 = btoa(String.fromCharCode.apply(null, chunk));\n",
              "      yield {\n",
              "        response: {\n",
              "          action: 'append',\n",
              "          file: file.name,\n",
              "          data: base64,\n",
              "        },\n",
              "      };\n",
              "\n",
              "      let percentDone = fileData.byteLength === 0 ?\n",
              "          100 :\n",
              "          Math.round((position / fileData.byteLength) * 100);\n",
              "      percent.textContent = `${percentDone}% done`;\n",
              "\n",
              "    } while (position < fileData.byteLength);\n",
              "  }\n",
              "\n",
              "  // All done.\n",
              "  yield {\n",
              "    response: {\n",
              "      action: 'complete',\n",
              "    }\n",
              "  };\n",
              "}\n",
              "\n",
              "scope.google = scope.google || {};\n",
              "scope.google.colab = scope.google.colab || {};\n",
              "scope.google.colab._files = {\n",
              "  _uploadFiles,\n",
              "  _uploadFilesContinue,\n",
              "};\n",
              "})(self);\n",
              "</script> "
            ]
          },
          "metadata": {}
        },
        {
          "output_type": "stream",
          "name": "stdout",
          "text": [
            "Saving VR_FRAUD_DATASET.xlsx to VR_FRAUD_DATASET.xlsx\n",
            "(1000, 18)\n",
            "   step      type  price_paid user_id  oldbalanceOrg  newbalanceOrig  \\\n",
            "0     1   PAYMENT     9839.64     C18       170136.0       160296.36   \n",
            "1     1   PAYMENT     1864.28     C25        21249.0        19384.72   \n",
            "2     1  TRANSFER      181.00     C47          181.0            0.00   \n",
            "3     1  CASH_OUT      181.00     C51          181.0            0.00   \n",
            "4     1   PAYMENT    11668.14     C95        41554.0        29885.86   \n",
            "\n",
            "      nameDest  oldbalanceDest  newbalanceDest  is_suspicious  isFlaggedFraud  \\\n",
            "0  M1979787155             0.0             0.0              0               0   \n",
            "1  M2044282225             0.0             0.0              0               0   \n",
            "2   C553264065             0.0             0.0              1               0   \n",
            "3    C38997010         21182.0             0.0              1               0   \n",
            "4  M1230701703             0.0             0.0              0               0   \n",
            "\n",
            "   market_value  price_difference  is_overpriced  user_transaction_count  \\\n",
            "0       2732.73           7106.91           True                      14   \n",
            "1       3268.64          -1404.36          False                      12   \n",
            "2       1271.87          -1090.87          False                       9   \n",
            "3       6131.67          -5950.67          False                       6   \n",
            "4       3865.09           7803.05           True                      14   \n",
            "\n",
            "   is_repeating_user  is_withdrawal  suspicious_withdrawal  \n",
            "0               True          False                  False  \n",
            "1               True          False                  False  \n",
            "2              False          False                  False  \n",
            "3              False           True                   True  \n",
            "4               True          False                  False  \n",
            "<class 'pandas.core.frame.DataFrame'>\n",
            "RangeIndex: 1000 entries, 0 to 999\n",
            "Data columns (total 18 columns):\n",
            " #   Column                  Non-Null Count  Dtype  \n",
            "---  ------                  --------------  -----  \n",
            " 0   step                    1000 non-null   int64  \n",
            " 1   type                    1000 non-null   object \n",
            " 2   price_paid              1000 non-null   float64\n",
            " 3   user_id                 1000 non-null   object \n",
            " 4   oldbalanceOrg           1000 non-null   float64\n",
            " 5   newbalanceOrig          1000 non-null   float64\n",
            " 6   nameDest                1000 non-null   object \n",
            " 7   oldbalanceDest          1000 non-null   float64\n",
            " 8   newbalanceDest          1000 non-null   float64\n",
            " 9   is_suspicious           1000 non-null   int64  \n",
            " 10  isFlaggedFraud          1000 non-null   int64  \n",
            " 11  market_value            1000 non-null   float64\n",
            " 12  price_difference        1000 non-null   float64\n",
            " 13  is_overpriced           1000 non-null   bool   \n",
            " 14  user_transaction_count  1000 non-null   int64  \n",
            " 15  is_repeating_user       1000 non-null   bool   \n",
            " 16  is_withdrawal           1000 non-null   bool   \n",
            " 17  suspicious_withdrawal   1000 non-null   bool   \n",
            "dtypes: bool(4), float64(7), int64(4), object(3)\n",
            "memory usage: 113.4+ KB\n",
            "                         count unique          top freq           mean  \\\n",
            "step                    1000.0    NaN          NaN  NaN            1.0   \n",
            "type                      1000      5      PAYMENT  437            NaN   \n",
            "price_paid              1000.0    NaN          NaN  NaN   118199.52532   \n",
            "user_id                   1000    100          C12   17            NaN   \n",
            "oldbalanceOrg           1000.0    NaN          NaN  NaN   864604.28678   \n",
            "newbalanceOrig          1000.0    NaN          NaN  NaN   884998.83148   \n",
            "nameDest                  1000    597  C1590550415   23            NaN   \n",
            "oldbalanceDest          1000.0    NaN          NaN  NaN   665776.54357   \n",
            "newbalanceDest          1000.0    NaN          NaN  NaN  1225619.09462   \n",
            "is_suspicious           1000.0    NaN          NaN  NaN          0.009   \n",
            "isFlaggedFraud          1000.0    NaN          NaN  NaN            0.0   \n",
            "market_value            1000.0    NaN          NaN  NaN     2977.95255   \n",
            "price_difference        1000.0    NaN          NaN  NaN   115221.57277   \n",
            "is_overpriced             1000      2         True  664            NaN   \n",
            "user_transaction_count  1000.0    NaN          NaN  NaN         10.938   \n",
            "is_repeating_user         1000      2         True  516            NaN   \n",
            "is_withdrawal             1000      2        False  770            NaN   \n",
            "suspicious_withdrawal     1000      2        False  995            NaN   \n",
            "\n",
            "                                   std      min        25%        50%  \\\n",
            "step                               0.0      1.0        1.0        1.0   \n",
            "type                               NaN      NaN        NaN        NaN   \n",
            "price_paid               248479.886955     8.73  4474.7275  14658.085   \n",
            "user_id                            NaN      NaN        NaN        NaN   \n",
            "oldbalanceOrg           2078040.475883      0.0        0.0    14518.0   \n",
            "newbalanceOrig          2127790.405095      0.0        0.0    5661.83   \n",
            "nameDest                           NaN      NaN        NaN        NaN   \n",
            "oldbalanceDest          2061228.443154      0.0        0.0  28755.055   \n",
            "newbalanceDest          3441299.188627      0.0        0.0        0.0   \n",
            "is_suspicious                 0.094488      0.0        0.0        0.0   \n",
            "isFlaggedFraud                     0.0      0.0        0.0        0.0   \n",
            "market_value                2178.07439     18.7  1223.8375    2532.68   \n",
            "price_difference         248392.469219 -8473.17    1695.55  11781.935   \n",
            "is_overpriced                      NaN      NaN        NaN        NaN   \n",
            "user_transaction_count        3.117993      5.0        9.0       11.0   \n",
            "is_repeating_user                  NaN      NaN        NaN        NaN   \n",
            "is_withdrawal                      NaN      NaN        NaN        NaN   \n",
            "suspicious_withdrawal              NaN      NaN        NaN        NaN   \n",
            "\n",
            "                                75%         max  \n",
            "step                            1.0         1.0  \n",
            "type                            NaN         NaN  \n",
            "price_paid              142720.3225  2545478.01  \n",
            "user_id                         NaN         NaN  \n",
            "oldbalanceOrg             107909.25  9716462.14  \n",
            "newbalanceOrig          102104.2325  9987286.56  \n",
            "nameDest                        NaN         NaN  \n",
            "oldbalanceDest           436631.165  17700000.0  \n",
            "newbalanceDest          730111.2025  19200000.0  \n",
            "is_suspicious                   0.0         1.0  \n",
            "isFlaggedFraud                  0.0         0.0  \n",
            "market_value               4422.245     9730.51  \n",
            "price_difference        140475.0175  2542093.28  \n",
            "is_overpriced                   NaN         NaN  \n",
            "user_transaction_count         14.0        17.0  \n",
            "is_repeating_user               NaN         NaN  \n",
            "is_withdrawal                   NaN         NaN  \n",
            "suspicious_withdrawal           NaN         NaN  \n"
          ]
        }
      ],
      "source": [
        "!pip install pandas numpy openpyxl scikit-learn xgboost matplotlib seaborn streamlit --quiet\n",
        "\n",
        "from google.colab import files\n",
        "uploaded = files.upload()\n",
        "\n",
        "import pandas as pd\n",
        "df = pd.read_excel('VR_FRAUD_DATASET.xlsx', engine='openpyxl')\n",
        "print(df.shape)\n",
        "print(df.head())\n",
        "df.info()\n",
        "print(df.describe(include='all').T)\n"
      ]
    },
    {
      "cell_type": "code",
      "source": [
        "import numpy as np\n",
        "\n",
        "if 'market_value' not in df:\n",
        "    df['market_value'] = df['price_paid'] * np.random.uniform(0.8, 1.2, len(df))\n",
        "\n",
        "df['price_diff'] = df['price_paid'] - df['market_value']\n",
        "df['overpriced'] = (df['price_diff'] / df['market_value']) > 0.3\n",
        "df['trans_count'] = df.groupby('user_id')['price_paid'].transform('count')\n",
        "df['repeat_user'] = df['trans_count'] > 1\n",
        "df['withdraw'] = df['type'].isin(['CASH_OUT', 'WITHDRAW'])\n",
        "df['suspicious'] = df['withdraw'] & df['overpriced']\n",
        "\n",
        "print(df[['market_value', 'price_diff', 'overpriced', 'trans_count', 'repeat_user', 'withdraw', 'suspicious']].head())\n"
      ],
      "metadata": {
        "colab": {
          "base_uri": "https://localhost:8080/"
        },
        "id": "_FXth-6ztuF2",
        "outputId": "c4b68b94-7fd5-4f0b-d7d0-5391dc976c0f"
      },
      "execution_count": 2,
      "outputs": [
        {
          "output_type": "stream",
          "name": "stdout",
          "text": [
            "   market_value  price_diff  overpriced  trans_count  repeat_user  withdraw  \\\n",
            "0       2732.73     7106.91        True           14         True     False   \n",
            "1       3268.64    -1404.36       False           12         True     False   \n",
            "2       1271.87    -1090.87       False            9         True     False   \n",
            "3       6131.67    -5950.67       False            6         True      True   \n",
            "4       3865.09     7803.05        True           14         True     False   \n",
            "\n",
            "   suspicious  \n",
            "0       False  \n",
            "1       False  \n",
            "2       False  \n",
            "3       False  \n",
            "4       False  \n"
          ]
        }
      ]
    },
    {
      "cell_type": "code",
      "source": [
        "print(df.isnull().sum())\n",
        "print(df['overpriced'].value_counts())\n",
        "print(df['suspicious'].value_counts())\n"
      ],
      "metadata": {
        "colab": {
          "base_uri": "https://localhost:8080/"
        },
        "id": "_FVRpjPVt3jT",
        "outputId": "dd31e3ea-1926-479d-f243-e32dc3c022d2"
      },
      "execution_count": 3,
      "outputs": [
        {
          "output_type": "stream",
          "name": "stdout",
          "text": [
            "step                      0\n",
            "type                      0\n",
            "price_paid                0\n",
            "user_id                   0\n",
            "oldbalanceOrg             0\n",
            "newbalanceOrig            0\n",
            "nameDest                  0\n",
            "oldbalanceDest            0\n",
            "newbalanceDest            0\n",
            "is_suspicious             0\n",
            "isFlaggedFraud            0\n",
            "market_value              0\n",
            "price_difference          0\n",
            "is_overpriced             0\n",
            "user_transaction_count    0\n",
            "is_repeating_user         0\n",
            "is_withdrawal             0\n",
            "suspicious_withdrawal     0\n",
            "price_diff                0\n",
            "overpriced                0\n",
            "trans_count               0\n",
            "repeat_user               0\n",
            "withdraw                  0\n",
            "suspicious                0\n",
            "dtype: int64\n",
            "overpriced\n",
            "True     802\n",
            "False    198\n",
            "Name: count, dtype: int64\n",
            "suspicious\n",
            "False    774\n",
            "True     226\n",
            "Name: count, dtype: int64\n"
          ]
        }
      ]
    },
    {
      "cell_type": "code",
      "source": [
        "df['label'] = df['overpriced'] | df['suspicious']\n",
        "print(df['label'].value_counts())\n",
        "\n",
        "maj = df[df['label'] == False]\n",
        "min = df[df['label'] == True]\n",
        "print(len(maj), len(min))\n",
        "\n",
        "min_up = min.sample(n=len(maj), replace=True, random_state=42)\n",
        "df2 = pd.concat([maj, min_up]).sample(frac=1, random_state=42).reset_index(drop=True)\n",
        "print(df2.shape, df2['label'].sum(), len(df2) - df2['label'].sum())\n"
      ],
      "metadata": {
        "colab": {
          "base_uri": "https://localhost:8080/"
        },
        "id": "-wiIxnZ2t7yr",
        "outputId": "69247f32-609e-41d1-ebdb-62bf56e4d3a9"
      },
      "execution_count": 4,
      "outputs": [
        {
          "output_type": "stream",
          "name": "stdout",
          "text": [
            "label\n",
            "True     802\n",
            "False    198\n",
            "Name: count, dtype: int64\n",
            "198 802\n",
            "(396, 25) 198 198\n"
          ]
        }
      ]
    },
    {
      "cell_type": "code",
      "source": [
        "data = df2.drop(['user_id', 'nameDest'], axis=1)\n",
        "data = pd.get_dummies(data, columns=['type'], drop_first=True)\n",
        "X = data.drop('label', axis=1)\n",
        "y = data['label']\n",
        "print([c for c in X.columns if X[c].dtype == 'object'])\n"
      ],
      "metadata": {
        "colab": {
          "base_uri": "https://localhost:8080/"
        },
        "id": "lAlu-tOgwHpR",
        "outputId": "897bdb56-cd80-411d-c528-1202eebbca05"
      },
      "execution_count": 5,
      "outputs": [
        {
          "output_type": "stream",
          "name": "stdout",
          "text": [
            "[]\n"
          ]
        }
      ]
    },
    {
      "cell_type": "code",
      "source": [
        "from sklearn.model_selection import train_test_split\n",
        "\n",
        "X_train, X_test, y_train, y_test = train_test_split(\n",
        "    X, y, test_size=0.2, stratify=y, random_state=42\n",
        ")\n",
        "print(X_train.shape, X_test.shape)\n"
      ],
      "metadata": {
        "colab": {
          "base_uri": "https://localhost:8080/"
        },
        "id": "-6SrStjDvhw4",
        "outputId": "d062bebf-442e-4722-c7a5-6c064f3fdefd"
      },
      "execution_count": 6,
      "outputs": [
        {
          "output_type": "stream",
          "name": "stdout",
          "text": [
            "(316, 25) (80, 25)\n"
          ]
        }
      ]
    },
    {
      "cell_type": "code",
      "source": [
        "from sklearn.ensemble import RandomForestClassifier\n",
        "from xgboost import XGBClassifier\n",
        "from sklearn.metrics import accuracy_score, classification_report, confusion_matrix, roc_curve, auc\n",
        "import matplotlib.pyplot as plt\n",
        "\n",
        "rf = RandomForestClassifier(n_estimators=50, max_depth=10, random_state=42, n_jobs=-1)\n",
        "rf.fit(X_train, y_train)\n",
        "pred_rf = rf.predict(X_test)\n",
        "print(classification_report(y_test, pred_rf))\n",
        "\n",
        "xg = XGBClassifier(use_label_encoder=False, eval_metric='logloss', random_state=42, n_jobs=-1)\n",
        "xg.fit(X_train, y_train)\n",
        "pred_xg = xg.predict(X_test)\n",
        "print(classification_report(y_test, pred_xg))\n",
        "\n",
        "cm1 = confusion_matrix(y_test, pred_rf)\n",
        "cm2 = confusion_matrix(y_test, pred_xg)\n",
        "plt.figure(figsize=(10,4))\n",
        "plt.subplot(1,2,1)\n",
        "plt.imshow(cm1, interpolation='nearest')\n",
        "plt.title('RF CM')\n",
        "plt.colorbar()\n",
        "plt.subplot(1,2,2)\n",
        "plt.imshow(cm2, interpolation='nearest')\n",
        "plt.title('XGB CM')\n",
        "plt.colorbar()\n",
        "plt.show()\n",
        "\n",
        "rf_probs = rf.predict_proba(X_test)[:,1]\n",
        "xg_probs = xg.predict_proba(X_test)[:,1]\n",
        "fpr1, tpr1, _ = roc_curve(y_test, rf_probs)\n",
        "fpr2, tpr2, _ = roc_curve(y_test, xg_probs)\n",
        "auc1 = auc(fpr1, tpr1)\n",
        "auc2 = auc(fpr2, tpr2)\n",
        "plt.plot(fpr1, tpr1, label='RF '+str(round(auc1,3)))\n",
        "plt.plot(fpr2, tpr2, label='XGB '+str(round(auc2,3)))\n",
        "plt.plot([0,1],[0,1],'--')\n",
        "plt.legend()\n",
        "plt.show()\n",
        "\n",
        "imps = rf.feature_importances_\n",
        "cols = X_train.columns\n",
        "idx = sorted(range(len(imps)), key=lambda i: imps[i], reverse=True)[:10]\n",
        "vals = [imps[i] for i in idx]\n",
        "labs = [cols[i] for i in idx]\n",
        "plt.barh(range(len(vals)), vals[::-1])\n",
        "plt.yticks(range(len(labs)), labs[::-1])\n",
        "plt.show()\n"
      ],
      "metadata": {
        "colab": {
          "base_uri": "https://localhost:8080/",
          "height": 1000
        },
        "id": "_wYIGaSnx6UD",
        "outputId": "5a807d83-34ab-49b2-d07a-c50c342ec9a6"
      },
      "execution_count": 7,
      "outputs": [
        {
          "output_type": "stream",
          "name": "stdout",
          "text": [
            "              precision    recall  f1-score   support\n",
            "\n",
            "       False       1.00      1.00      1.00        40\n",
            "        True       1.00      1.00      1.00        40\n",
            "\n",
            "    accuracy                           1.00        80\n",
            "   macro avg       1.00      1.00      1.00        80\n",
            "weighted avg       1.00      1.00      1.00        80\n",
            "\n",
            "              precision    recall  f1-score   support\n",
            "\n",
            "       False       1.00      1.00      1.00        40\n",
            "        True       1.00      1.00      1.00        40\n",
            "\n",
            "    accuracy                           1.00        80\n",
            "   macro avg       1.00      1.00      1.00        80\n",
            "weighted avg       1.00      1.00      1.00        80\n",
            "\n"
          ]
        },
        {
          "output_type": "stream",
          "name": "stderr",
          "text": [
            "/usr/local/lib/python3.11/dist-packages/xgboost/training.py:183: UserWarning: [18:44:48] WARNING: /workspace/src/learner.cc:738: \n",
            "Parameters: { \"use_label_encoder\" } are not used.\n",
            "\n",
            "  bst.update(dtrain, iteration=i, fobj=obj)\n"
          ]
        },
        {
          "output_type": "display_data",
          "data": {
            "text/plain": [
              "<Figure size 1000x400 with 4 Axes>"
            ],
            "image/png": "[encoded data removed]"
          },
          "metadata": {}
        },
        {
          "output_type": "display_data",
          "data": {
            "text/plain": [
              "<Figure size 640x480 with 1 Axes>"
            ],
            "image/png": "[encoded data removed]"
          },
          "metadata": {}
        },
        {
          "output_type": "display_data",
          "data": {
            "text/plain": [
              "<Figure size 640x480 with 1 Axes>"
            ],
            "image/png": "[encoded data removed]"
          },
          "metadata": {}
        }
      ]
    },
    {
      "cell_type": "code",
      "source": [
        "import pickle\n",
        "\n",
        "with open('model.pkl', 'wb') as f:\n",
        "    pickle.dump(rf, f)\n",
        "\n",
        "from google.colab import files\n",
        "files.download('model.pkl')"
      ],
      "metadata": {
        "colab": {
          "base_uri": "https://localhost:8080/",
          "height": 17
        },
        "id": "8xD-B-eQ5d1Z",
        "outputId": "e467e247-50aa-4f97-a304-775b1a99f66d"
      },
      "execution_count": 8,
      "outputs": [
        {
          "output_type": "display_data",
          "data": {
            "text/plain": [
              "<IPython.core.display.Javascript object>"
            ],
            "application/javascript": [
              "\n",
              "    async function download(id, filename, size) {\n",
              "      if (!google.colab.kernel.accessAllowed) {\n",
              "        return;\n",
              "      }\n",
              "      const div = document.createElement('div');\n",
              "      const label = document.createElement('label');\n",
              "      label.textContent = `Downloading \"${filename}\": `;\n",
              "      div.appendChild(label);\n",
              "      const progress = document.createElement('progress');\n",
              "      progress.max = size;\n",
              "      div.appendChild(progress);\n",
              "      document.body.appendChild(div);\n",
              "\n",
              "      const buffers = [];\n",
              "      let downloaded = 0;\n",
              "\n",
              "      const channel = await google.colab.kernel.comms.open(id);\n",
              "      // Send a message to notify the kernel that we're ready.\n",
              "      channel.send({})\n",
              "\n",
              "      for await (const message of channel.messages) {\n",
              "        // Send a message to notify the kernel that we're ready.\n",
              "        channel.send({})\n",
              "        if (message.buffers) {\n",
              "          for (const buffer of message.buffers) {\n",
              "            buffers.push(buffer);\n",
              "            downloaded += buffer.byteLength;\n",
              "            progress.value = downloaded;\n",
              "          }\n",
              "        }\n",
              "      }\n",
              "      const blob = new Blob(buffers, {type: 'application/binary'});\n",
              "      const a = document.createElement('a');\n",
              "      a.href = window.URL.createObjectURL(blob);\n",
              "      a.download = filename;\n",
              "      div.appendChild(a);\n",
              "      a.click();\n",
              "      div.remove();\n",
              "    }\n",
              "  "
            ]
          },
          "metadata": {}
        },
        {
          "output_type": "display_data",
          "data": {
            "text/plain": [
              "<IPython.core.display.Javascript object>"
            ],
            "application/javascript": [
              "download(\"download_6ac96385-506e-4b30-94ec-f6b343e20d2a\", \"model.pkl\", 63838)"
            ]
          },
          "metadata": {}
        }
      ]
    }
  ]
}